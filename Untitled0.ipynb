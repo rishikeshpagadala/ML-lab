{
  "nbformat": 4,
  "nbformat_minor": 0,
  "metadata": {
    "colab": {
      "name": "Untitled0.ipynb",
      "provenance": [],
      "authorship_tag": "ABX9TyM7DTwfq67vYELFPyVYc+1h",
      "include_colab_link": true
    },
    "kernelspec": {
      "name": "python3",
      "display_name": "Python 3"
    }
  },
  "cells": [
    {
      "cell_type": "markdown",
      "metadata": {
        "id": "view-in-github",
        "colab_type": "text"
      },
      "source": [
        "<a href=\"https://colab.research.google.com/github/rishikeshpagadala/ML-lab/blob/master/Untitled0.ipynb\" target=\"_parent\"><img src=\"https://colab.research.google.com/assets/colab-badge.svg\" alt=\"Open In Colab\"/></a>"
      ]
    },
    {
      "cell_type": "code",
      "metadata": {
        "id": "yxzNzo03duoN",
        "colab_type": "code",
        "colab": {}
      },
      "source": [
        ""
      ],
      "execution_count": 0,
      "outputs": []
    },
    {
      "cell_type": "code",
      "metadata": {
        "id": "4cv8F6hUgXfQ",
        "colab_type": "code",
        "outputId": "d2ccb45e-5d00-4ded-8cd8-5dc0cde28985",
        "colab": {
          "base_uri": "https://localhost:8080/",
          "height": 157
        }
      },
      "source": [
        " \n",
        "n1=int(input(\"enter n1 value:\"))\n",
        "n2=int(input(\"enter n2 vlaue:\"))\n",
        "sum=n1+n2\n",
        "mul=n1*n2\n",
        "div=n1/n2\n",
        "sub=n1-n2\n",
        "modulo=n1%n2\n",
        "print(\"the sum of two numbers is:\",sum)\n",
        "print(\"the mulitplication of two numbers is:\",mul)\n",
        "print(\"the division of two numbers is:\",div)\n",
        "print(\"the subtraction of two numbers is:\",sub)\n",
        "print(\"the modulodivision of two numbers is:\",modulo)"
      ],
      "execution_count": 0,
      "outputs": [
        {
          "output_type": "stream",
          "text": [
            "enter n1 value:10\n",
            "enter n2 vlaue:20\n",
            "the sum of two numbers is: 30\n",
            "the mulitplication of two numbers is: 200\n",
            "the division of two numbers is: 0.5\n",
            "the subtraction of two numbers is: -10\n",
            "the modulodivision of two numbers is: 10\n"
          ],
          "name": "stdout"
        }
      ]
    },
    {
      "cell_type": "code",
      "metadata": {
        "id": "rc34-BUSombo",
        "colab_type": "code",
        "outputId": "d2ff8251-3795-42d8-8bfb-61ded9ff6fd1",
        "colab": {
          "base_uri": "https://localhost:8080/",
          "height": 157
        }
      },
      "source": [
        " \n",
        "n1=int(input(\"enter n1 value:\"))\n",
        "n2=int(input(\"enter n2 vlaue:\"))\n",
        "sum=n1+n2\n",
        "mul=n1*n2\n",
        "div=n1/n2\n",
        "sub=n1-n2\n",
        "modulo=n1%n2\n",
        "print(\"the sum of two numbers is:\",sum)\n",
        "print(\"the mulitplication of two numbers is:\",mul)\n",
        "print(\"the division of two numbers is:\",div)\n",
        "print(\"the subtraction of two numbers is:\",sub)\n",
        "print(\"the modulodivision of two numbers is:\",modulo)"
      ],
      "execution_count": 0,
      "outputs": [
        {
          "output_type": "stream",
          "text": [
            "enter n1 value:20\n",
            "enter n2 vlaue:40\n",
            "the sum of two numbers is: 60\n",
            "the mulitplication of two numbers is: 800\n",
            "the division of two numbers is: 0.5\n",
            "the subtraction of two numbers is: -20\n",
            "the modulodivision of two numbers is: 20\n"
          ],
          "name": "stdout"
        }
      ]
    },
    {
      "cell_type": "code",
      "metadata": {
        "id": "b_OmflNvqZkH",
        "colab_type": "code",
        "outputId": "56a53c0d-1b7a-462e-a23b-5e035d5d7b98",
        "colab": {
          "base_uri": "https://localhost:8080/",
          "height": 188
        }
      },
      "source": [
        " \n",
        "Kumarswamy=[10,20,30,50,60]\n",
        "for x in Kumarswamy:\n",
        "  print(\"The value of x=\",x)\n",
        "  y=x+30\n",
        "  print(\"The value of y=\",y)"
      ],
      "execution_count": 0,
      "outputs": [
        {
          "output_type": "stream",
          "text": [
            "The value of x= 10\n",
            "The value of y= 40\n",
            "The value of x= 20\n",
            "The value of y= 50\n",
            "The value of x= 30\n",
            "The value of y= 60\n",
            "The value of x= 50\n",
            "The value of y= 80\n",
            "The value of x= 60\n",
            "The value of y= 90\n"
          ],
          "name": "stdout"
        }
      ]
    },
    {
      "cell_type": "code",
      "metadata": {
        "id": "ZtK0d4KvqeK3",
        "colab_type": "code",
        "colab": {}
      },
      "source": [
        ""
      ],
      "execution_count": 0,
      "outputs": []
    },
    {
      "cell_type": "code",
      "metadata": {
        "id": "0Oi2E_M6qg6K",
        "colab_type": "code",
        "outputId": "2e14a1de-ec7b-4514-fd86-2857647a6ff6",
        "colab": {
          "base_uri": "https://localhost:8080/",
          "height": 360
        }
      },
      "source": [
        " \n",
        "for i in range(20):\n",
        "  print(i)"
      ],
      "execution_count": 0,
      "outputs": [
        {
          "output_type": "stream",
          "text": [
            "0\n",
            "1\n",
            "2\n",
            "3\n",
            "4\n",
            "5\n",
            "6\n",
            "7\n",
            "8\n",
            "9\n",
            "10\n",
            "11\n",
            "12\n",
            "13\n",
            "14\n",
            "15\n",
            "16\n",
            "17\n",
            "18\n",
            "19\n"
          ],
          "name": "stdout"
        }
      ]
    },
    {
      "cell_type": "code",
      "metadata": {
        "id": "S4nNeqHGqz5g",
        "colab_type": "code",
        "outputId": "a5810399-edc0-4331-834c-facd5c783df8",
        "colab": {
          "base_uri": "https://localhost:8080/",
          "height": 240
        }
      },
      "source": [
        " \n",
        "x=int(input(\"enter a number\"))\n",
        "while x<=15:\n",
        "  print(x)\n",
        "  x=x+1"
      ],
      "execution_count": 0,
      "outputs": [
        {
          "output_type": "stream",
          "text": [
            "enter a number4\n",
            "4\n",
            "5\n",
            "6\n",
            "7\n",
            "8\n",
            "9\n",
            "10\n",
            "11\n",
            "12\n",
            "13\n",
            "14\n",
            "15\n"
          ],
          "name": "stdout"
        }
      ]
    },
    {
      "cell_type": "code",
      "metadata": {
        "id": "3qsKBo4TrRzu",
        "colab_type": "code",
        "outputId": "4b04fc41-24ee-4162-849b-d1951e30a9f1",
        "colab": {
          "base_uri": "https://localhost:8080/",
          "height": 120
        }
      },
      "source": [
        " \n",
        "Kumarswamy=[\"aditya\",'srikatnh','chinabau','Hemanth','Satya','RajaNaidu']\n",
        "for x in Kumarswamy:\n",
        "  print(x)"
      ],
      "execution_count": 0,
      "outputs": [
        {
          "output_type": "stream",
          "text": [
            "aditya\n",
            "srikatnh\n",
            "chinabau\n",
            "Hemanth\n",
            "Satya\n",
            "RajaNaidu\n"
          ],
          "name": "stdout"
        }
      ]
    }
  ]
}