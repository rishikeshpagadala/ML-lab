{
  "nbformat": 4,
  "nbformat_minor": 0,
  "metadata": {
    "colab": {
      "name": "Untitled",
      "provenance": [],
      "authorship_tag": "ABX9TyMCob0VuwXYZhlvLtCyLGgA",
      "include_colab_link": true
    },
    "kernelspec": {
      "name": "python3",
      "display_name": "Python 3"
    }
  },
  "cells": [
    {
      "cell_type": "markdown",
      "metadata": {
        "id": "view-in-github",
        "colab_type": "text"
      },
      "source": [
        "<a href=\"https://colab.research.google.com/github/rishikeshpagadala/ML-lab/blob/master/Untitled.ipynb\" target=\"_parent\"><img src=\"https://colab.research.google.com/assets/colab-badge.svg\" alt=\"Open In Colab\"/></a>"
      ]
    },
    {
      "cell_type": "code",
      "metadata": {
        "id": "nTjvAP4mwktq",
        "colab_type": "code",
        "outputId": "1a1e0c76-a83a-46ef-8521-d4d8bff5dc05",
        "colab": {
          "base_uri": "https://localhost:8080/",
          "height": 34
        }
      },
      "source": [
        "print(\"hello world\")"
      ],
      "execution_count": 0,
      "outputs": [
        {
          "output_type": "stream",
          "text": [
            "hello world\n"
          ],
          "name": "stdout"
        }
      ]
    },
    {
      "cell_type": "code",
      "metadata": {
        "id": "zEHqkqNzzeSR",
        "colab_type": "code",
        "colab": {
          "base_uri": "https://localhost:8080/",
          "height": 137
        },
        "outputId": "d91c9958-c596-4743-f84e-26f8969cafe3"
      },
      "source": [
        "n1=int(input(\"enter n1 value:\"))\n",
        "n2=int(input(\"enter n2 vlaue:\"))\n",
        "sum=n1+n2\n",
        "mul=n1*n2\n",
        "div=n1/n2\n",
        "sub=n1-n2\n",
        "modulo=n1%n2\n",
        "print(\"the sum of two numbers is:\",sum)\n",
        "print(\"the mulitplication of two numbers is:\",mul)\n",
        "print(\"the division of two numbers is:\",div)\n",
        "print(\"the subtraction of two numbers is:\",sub)\n",
        "print(\"the modulodivision of two numbers is:\",modulo)"
      ],
      "execution_count": 2,
      "outputs": [
        {
          "output_type": "stream",
          "text": [
            "enter n1 value:20\n",
            "enter n2 vlaue:30\n",
            "the sum of two numbers is: 50\n",
            "the mulitplication of two numbers is: 600\n",
            "the division of two numbers is: 0.6666666666666666\n",
            "the subtraction of two numbers is: -10\n",
            "the modulodivision of two numbers is: 20\n"
          ],
          "name": "stdout"
        }
      ]
    },
    {
      "cell_type": "code",
      "metadata": {
        "id": "OzvizYXP_Ss0",
        "colab_type": "code",
        "colab": {
          "base_uri": "https://localhost:8080/",
          "height": 68
        },
        "outputId": "7841c8aa-8670-4ef4-f172-e4f51ca1b91c"
      },
      "source": [
        "n1=int(input(\"enter n1 vlaue\"))\n",
        "n2=int(input(\"enter n2 vlaue\"))\n",
        "if n1==10:\n",
        "  print(\"enter number is equal to n1:\")\n",
        "elif n2==20:\n",
        "  print(\"enter number is equal to n2:\")\n",
        "else:\n",
        "  print(\"enter nubers are not equal to given numbers\")"
      ],
      "execution_count": 4,
      "outputs": [
        {
          "output_type": "stream",
          "text": [
            "enter n1 vlaue10\n",
            "enter n2 vlaue20\n",
            "enter number is equal to n1:\n"
          ],
          "name": "stdout"
        }
      ]
    },
    {
      "cell_type": "code",
      "metadata": {
        "id": "aCGeZQLh_oOI",
        "colab_type": "code",
        "colab": {
          "base_uri": "https://localhost:8080/",
          "height": 68
        },
        "outputId": "c1e22945-82ea-45f0-89ba-daa6f41465b1"
      },
      "source": [
        "n1=int(input(\"enter n1 vlaue\"))\n",
        "n2=int(input(\"enter n2 vlaue\"))\n",
        "if n1==10:\n",
        "  print(\"enter number is equal to n1:\")\n",
        "elif n2==20:\n",
        "  print(\"enter number is equal to n2:\")\n",
        "else:\n",
        "  print(\"enter nubers are not equal to given numbers\")"
      ],
      "execution_count": 5,
      "outputs": [
        {
          "output_type": "stream",
          "text": [
            "enter n1 vlaue30\n",
            "enter n2 vlaue40\n",
            "enter nubers are not equal to given numbers\n"
          ],
          "name": "stdout"
        }
      ]
    },
    {
      "cell_type": "code",
      "metadata": {
        "id": "BfHgagrMAaFd",
        "colab_type": "code",
        "colab": {
          "base_uri": "https://localhost:8080/",
          "height": 188
        },
        "outputId": "e9e954b6-dcfd-4297-c024-94e9d578049f"
      },
      "source": [
        "Rishi=[100,200,300,500,600]\n",
        "for x in Rishi:\n",
        "  print(\"The value of x=\",x)\n",
        "  y=x+30\n",
        "  print(\"The value of y=\",y)"
      ],
      "execution_count": 8,
      "outputs": [
        {
          "output_type": "stream",
          "text": [
            "The value of x= 100\n",
            "The value of y= 130\n",
            "The value of x= 200\n",
            "The value of y= 230\n",
            "The value of x= 300\n",
            "The value of y= 330\n",
            "The value of x= 500\n",
            "The value of y= 530\n",
            "The value of x= 600\n",
            "The value of y= 630\n"
          ],
          "name": "stdout"
        }
      ]
    },
    {
      "cell_type": "code",
      "metadata": {
        "id": "HZQielVABucv",
        "colab_type": "code",
        "colab": {
          "base_uri": "https://localhost:8080/",
          "height": 360
        },
        "outputId": "8133a774-f491-4a5c-c132-1ecd14039fe8"
      },
      "source": [
        "for i in range(20):\n",
        "  print(i)"
      ],
      "execution_count": 12,
      "outputs": [
        {
          "output_type": "stream",
          "text": [
            "0\n",
            "1\n",
            "2\n",
            "3\n",
            "4\n",
            "5\n",
            "6\n",
            "7\n",
            "8\n",
            "9\n",
            "10\n",
            "11\n",
            "12\n",
            "13\n",
            "14\n",
            "15\n",
            "16\n",
            "17\n",
            "18\n",
            "19\n"
          ],
          "name": "stdout"
        }
      ]
    },
    {
      "cell_type": "code",
      "metadata": {
        "id": "rC6TxNTSB2c1",
        "colab_type": "code",
        "colab": {
          "base_uri": "https://localhost:8080/",
          "height": 291
        },
        "outputId": "2e4174a3-e992-40e8-fe4f-24aa4a69b839"
      },
      "source": [
        "x=int(input(\"enter a number\"))\n",
        "while x<=15:\n",
        "  print(x)\n",
        "  x=x+1"
      ],
      "execution_count": 13,
      "outputs": [
        {
          "output_type": "stream",
          "text": [
            "enter a number1\n",
            "1\n",
            "2\n",
            "3\n",
            "4\n",
            "5\n",
            "6\n",
            "7\n",
            "8\n",
            "9\n",
            "10\n",
            "11\n",
            "12\n",
            "13\n",
            "14\n",
            "15\n"
          ],
          "name": "stdout"
        }
      ]
    },
    {
      "cell_type": "code",
      "metadata": {
        "id": "ii0tTz6aCD9S",
        "colab_type": "code",
        "colab": {
          "base_uri": "https://localhost:8080/",
          "height": 120
        },
        "outputId": "a3f2b70d-8e60-4640-e36b-14f7f9b9a8f1"
      },
      "source": [
        "Rishi=[\"aditya\",'srikatnh','chinabau','Hemanth','Satya','RajaNaidu']\n",
        "for x in Rishi:\n",
        "  print(x)"
      ],
      "execution_count": 14,
      "outputs": [
        {
          "output_type": "stream",
          "text": [
            "aditya\n",
            "srikatnh\n",
            "chinabau\n",
            "Hemanth\n",
            "Satya\n",
            "RajaNaidu\n"
          ],
          "name": "stdout"
        }
      ]
    },
    {
      "cell_type": "code",
      "metadata": {
        "id": "KrxEE4wYC-AG",
        "colab_type": "code",
        "colab": {
          "base_uri": "https://localhost:8080/",
          "height": 51
        },
        "outputId": "aa6e3f36-e6e7-4264-dd2a-abfb6e3a2d8d"
      },
      "source": [
        "pi=3.14\n",
        "r=int(input(\"enter the radius of the circle:\"))\n",
        "area=pi*r*r\n",
        "area=print(\"area of the circle is:\",area)"
      ],
      "execution_count": 17,
      "outputs": [
        {
          "output_type": "stream",
          "text": [
            "enter the radius of the circle:3\n",
            "area of the circle is: 28.259999999999998\n"
          ],
          "name": "stdout"
        }
      ]
    },
    {
      "cell_type": "code",
      "metadata": {
        "id": "WIk-EP-xELeU",
        "colab_type": "code",
        "colab": {
          "base_uri": "https://localhost:8080/",
          "height": 68
        },
        "outputId": "b35bd5d7-95fb-4fa3-8d01-db6e665e35fb"
      },
      "source": [
        "n1=int(input(\"enter n1 vlaue\"))\n",
        "n2=int(input(\"enter n2 vlaue\"))\n",
        "n3=n1**n2\n",
        "print(\"the power of value \",n3)"
      ],
      "execution_count": 19,
      "outputs": [
        {
          "output_type": "stream",
          "text": [
            "enter n1 vlaue5\n",
            "enter n2 vlaue3\n",
            "the power of value  125\n"
          ],
          "name": "stdout"
        }
      ]
    }
  ]
}